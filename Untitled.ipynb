{
 "cells": [
  {
   "cell_type": "code",
   "execution_count": 4,
   "id": "8b9d427f-c8e6-4308-9386-d15f0aed9df8",
   "metadata": {},
   "outputs": [],
   "source": [
    "import pandas as pd\n",
    "import networkx as nx\n",
    "import numpy as np \n",
    "import ahpy"
   ]
  },
  {
   "cell_type": "code",
   "execution_count": 18,
   "id": "f943dabb-0901-429a-a1d7-33baebf5467a",
   "metadata": {},
   "outputs": [
    {
     "data": {
      "text/html": [
       "<iframe src=\"https://docs.google.com/spreadsheets/d/e/2PACX-1vSA9MJf5NdSLgkNdSgt_V-GXhklFcHi7HGvkOZbZZV-0K8a9WcQu4ONm858WSBsVW-qH76DE7IKnX2S/pub?output=xlsx\" width=\"600\" height=\"300\"></iframe>\n"
      ],
      "text/plain": [
       "<IPython.core.display.HTML object>"
      ]
     },
     "metadata": {},
     "output_type": "display_data"
    }
   ],
   "source": [
    "%%html\n",
    "<iframe src=\"https://docs.google.com/spreadsheets/d/e/2PACX-1vSA9MJf5NdSLgkNdSgt_V-GXhklFcHi7HGvkOZbZZV-0K8a9WcQu4ONm858WSBsVW-qH76DE7IKnX2S/pub?output=xlsx\" width=\"600\" height=\"300\"></iframe>\n"
   ]
  },
  {
   "cell_type": "code",
   "execution_count": 22,
   "id": "712699c0-4464-4e72-abee-6d0c3eb3dcdb",
   "metadata": {},
   "outputs": [],
   "source": [
    "linkGoogle=\"https://docs.google.com/spreadsheets/d/e/2PACX-1vSA9MJf5NdSLgkNdSgt_V-GXhklFcHi7HGvkOZbZZV-0K8a9WcQu4ONm858WSBsVW-qH76DE7IKnX2S/pub?output=xlsx\""
   ]
  },
  {
   "cell_type": "code",
   "execution_count": 26,
   "id": "db04976c-38fe-4c02-a2f3-69d9ae906149",
   "metadata": {},
   "outputs": [
    {
     "data": {
      "text/html": [
       "<div>\n",
       "<style scoped>\n",
       "    .dataframe tbody tr th:only-of-type {\n",
       "        vertical-align: middle;\n",
       "    }\n",
       "\n",
       "    .dataframe tbody tr th {\n",
       "        vertical-align: top;\n",
       "    }\n",
       "\n",
       "    .dataframe thead th {\n",
       "        text-align: right;\n",
       "    }\n",
       "</style>\n",
       "<table border=\"1\" class=\"dataframe\">\n",
       "  <thead>\n",
       "    <tr style=\"text-align: right;\">\n",
       "      <th></th>\n",
       "      <th>school_a</th>\n",
       "      <th>school_b</th>\n",
       "      <th>school_c</th>\n",
       "    </tr>\n",
       "  </thead>\n",
       "  <tbody>\n",
       "    <tr>\n",
       "      <th>school_a</th>\n",
       "      <td>1</td>\n",
       "      <td>NaN</td>\n",
       "      <td>NaN</td>\n",
       "    </tr>\n",
       "    <tr>\n",
       "      <th>school_b</th>\n",
       "      <td>3</td>\n",
       "      <td>1.0</td>\n",
       "      <td>3.0</td>\n",
       "    </tr>\n",
       "    <tr>\n",
       "      <th>school_c</th>\n",
       "      <td>2</td>\n",
       "      <td>NaN</td>\n",
       "      <td>1.0</td>\n",
       "    </tr>\n",
       "  </tbody>\n",
       "</table>\n",
       "</div>"
      ],
      "text/plain": [
       "          school_a  school_b  school_c\n",
       "school_a         1       NaN       NaN\n",
       "school_b         3       1.0       3.0\n",
       "school_c         2       NaN       1.0"
      ]
     },
     "execution_count": 26,
     "metadata": {},
     "output_type": "execute_result"
    }
   ],
   "source": [
    "pairwise_learning=pd.read_excel(linkGoogle,sheet_name='learning', index_col=0)\n",
    "pairwise_learning"
   ]
  },
  {
   "cell_type": "code",
   "execution_count": 28,
   "id": "f7e12d21-ef8f-437c-ab7b-f3fa1e64ed69",
   "metadata": {},
   "outputs": [],
   "source": [
    "pairwise_friends=pd.read_excel(linkGoogle,sheet_name='friends', index_col=0)\n",
    "pairwise_school_life=pd.read_excel(linkGoogle,sheet_name='school_life', index_col=0)\n",
    "pairwise_vocational_trng=pd.read_excel(linkGoogle,sheet_name='vocational_trng', index_col=0)\n",
    "pairwise_college_prep=pd.read_excel(linkGoogle,sheet_name='college_prep', index_col=0)\n",
    "pairwise_music_class=pd.read_excel(linkGoogle,sheet_name='music_class', index_col=0)\n",
    "pairwise_criteria=pd.read_excel(linkGoogle,sheet_name='criteria', index_col=0)"
   ]
  },
  {
   "cell_type": "code",
   "execution_count": 30,
   "id": "1fb7e32f-f296-4d00-9e3e-da12bf568211",
   "metadata": {},
   "outputs": [
    {
     "data": {
      "text/html": [
       "<div>\n",
       "<style scoped>\n",
       "    .dataframe tbody tr th:only-of-type {\n",
       "        vertical-align: middle;\n",
       "    }\n",
       "\n",
       "    .dataframe tbody tr th {\n",
       "        vertical-align: top;\n",
       "    }\n",
       "\n",
       "    .dataframe thead th {\n",
       "        text-align: right;\n",
       "    }\n",
       "</style>\n",
       "<table border=\"1\" class=\"dataframe\">\n",
       "  <thead>\n",
       "    <tr style=\"text-align: right;\">\n",
       "      <th></th>\n",
       "      <th>learning</th>\n",
       "      <th>friends</th>\n",
       "      <th>school_life</th>\n",
       "      <th>vocational_trng</th>\n",
       "      <th>college_prep</th>\n",
       "      <th>music_class</th>\n",
       "    </tr>\n",
       "  </thead>\n",
       "  <tbody>\n",
       "    <tr>\n",
       "      <th>learning</th>\n",
       "      <td>1.0</td>\n",
       "      <td>4.0</td>\n",
       "      <td>3</td>\n",
       "      <td>1.0</td>\n",
       "      <td>3.0</td>\n",
       "      <td>4.0</td>\n",
       "    </tr>\n",
       "    <tr>\n",
       "      <th>friends</th>\n",
       "      <td>NaN</td>\n",
       "      <td>1.0</td>\n",
       "      <td>7</td>\n",
       "      <td>3.0</td>\n",
       "      <td>NaN</td>\n",
       "      <td>1.0</td>\n",
       "    </tr>\n",
       "    <tr>\n",
       "      <th>school_life</th>\n",
       "      <td>NaN</td>\n",
       "      <td>NaN</td>\n",
       "      <td>1</td>\n",
       "      <td>NaN</td>\n",
       "      <td>NaN</td>\n",
       "      <td>NaN</td>\n",
       "    </tr>\n",
       "    <tr>\n",
       "      <th>vocational_trng</th>\n",
       "      <td>1.0</td>\n",
       "      <td>NaN</td>\n",
       "      <td>5</td>\n",
       "      <td>1.0</td>\n",
       "      <td>1.0</td>\n",
       "      <td>NaN</td>\n",
       "    </tr>\n",
       "    <tr>\n",
       "      <th>college_prep</th>\n",
       "      <td>NaN</td>\n",
       "      <td>5.0</td>\n",
       "      <td>5</td>\n",
       "      <td>1.0</td>\n",
       "      <td>1.0</td>\n",
       "      <td>3.0</td>\n",
       "    </tr>\n",
       "    <tr>\n",
       "      <th>music_class</th>\n",
       "      <td>NaN</td>\n",
       "      <td>1.0</td>\n",
       "      <td>6</td>\n",
       "      <td>3.0</td>\n",
       "      <td>NaN</td>\n",
       "      <td>1.0</td>\n",
       "    </tr>\n",
       "  </tbody>\n",
       "</table>\n",
       "</div>"
      ],
      "text/plain": [
       "                 learning  friends  school_life  vocational_trng  \\\n",
       "learning              1.0      4.0            3              1.0   \n",
       "friends               NaN      1.0            7              3.0   \n",
       "school_life           NaN      NaN            1              NaN   \n",
       "vocational_trng       1.0      NaN            5              1.0   \n",
       "college_prep          NaN      5.0            5              1.0   \n",
       "music_class           NaN      1.0            6              3.0   \n",
       "\n",
       "                 college_prep  music_class  \n",
       "learning                  3.0          4.0  \n",
       "friends                   NaN          1.0  \n",
       "school_life               NaN          NaN  \n",
       "vocational_trng           1.0          NaN  \n",
       "college_prep              1.0          3.0  \n",
       "music_class               NaN          1.0  "
      ]
     },
     "execution_count": 30,
     "metadata": {},
     "output_type": "execute_result"
    }
   ],
   "source": [
    "pairwise_criteria"
   ]
  },
  {
   "cell_type": "code",
   "execution_count": null,
   "id": "30acb6cc-ce6f-4669-8929-6c78d9202f3a",
   "metadata": {},
   "outputs": [],
   "source": []
  }
 ],
 "metadata": {
  "kernelspec": {
   "display_name": "Python [conda env:base] *",
   "language": "python",
   "name": "conda-base-py"
  },
  "language_info": {
   "codemirror_mode": {
    "name": "ipython",
    "version": 3
   },
   "file_extension": ".py",
   "mimetype": "text/x-python",
   "name": "python",
   "nbconvert_exporter": "python",
   "pygments_lexer": "ipython3",
   "version": "3.12.7"
  }
 },
 "nbformat": 4,
 "nbformat_minor": 5
}
