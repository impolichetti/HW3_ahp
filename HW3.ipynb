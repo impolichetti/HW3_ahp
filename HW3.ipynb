{
 "cells": [
  {
   "cell_type": "code",
   "execution_count": 71,
   "id": "8b9d427f-c8e6-4308-9386-d15f0aed9df8",
   "metadata": {},
   "outputs": [],
   "source": [
    "import pandas as pd\n",
    "import networkx as nx\n",
    "import numpy as np \n",
    "import ahpy"
   ]
  },
  {
   "cell_type": "code",
   "execution_count": 72,
   "id": "f943dabb-0901-429a-a1d7-33baebf5467a",
   "metadata": {},
   "outputs": [
    {
     "data": {
      "text/html": [
       "<iframe src=\"https://docs.google.com/spreadsheets/d/e/2PACX-1vSA9MJf5NdSLgkNdSgt_V-GXhklFcHi7HGvkOZbZZV-0K8a9WcQu4ONm858WSBsVW-qH76DE7IKnX2S/pub?output=xlsx\" width=\"600\" height=\"300\"></iframe>\n"
      ],
      "text/plain": [
       "<IPython.core.display.HTML object>"
      ]
     },
     "metadata": {},
     "output_type": "display_data"
    }
   ],
   "source": [
    "%%html\n",
    "<iframe src=\"https://docs.google.com/spreadsheets/d/e/2PACX-1vSA9MJf5NdSLgkNdSgt_V-GXhklFcHi7HGvkOZbZZV-0K8a9WcQu4ONm858WSBsVW-qH76DE7IKnX2S/pub?output=xlsx\" width=\"600\" height=\"300\"></iframe>\n"
   ]
  },
  {
   "cell_type": "code",
   "execution_count": 73,
   "id": "712699c0-4464-4e72-abee-6d0c3eb3dcdb",
   "metadata": {},
   "outputs": [],
   "source": [
    "linkGoogle=\"https://docs.google.com/spreadsheets/d/e/2PACX-1vSA9MJf5NdSLgkNdSgt_V-GXhklFcHi7HGvkOZbZZV-0K8a9WcQu4ONm858WSBsVW-qH76DE7IKnX2S/pub?output=xlsx\""
   ]
  },
  {
   "cell_type": "code",
   "execution_count": 74,
   "id": "db04976c-38fe-4c02-a2f3-69d9ae906149",
   "metadata": {},
   "outputs": [
    {
     "data": {
      "text/html": [
       "<div>\n",
       "<style scoped>\n",
       "    .dataframe tbody tr th:only-of-type {\n",
       "        vertical-align: middle;\n",
       "    }\n",
       "\n",
       "    .dataframe tbody tr th {\n",
       "        vertical-align: top;\n",
       "    }\n",
       "\n",
       "    .dataframe thead th {\n",
       "        text-align: right;\n",
       "    }\n",
       "</style>\n",
       "<table border=\"1\" class=\"dataframe\">\n",
       "  <thead>\n",
       "    <tr style=\"text-align: right;\">\n",
       "      <th></th>\n",
       "      <th>school_a</th>\n",
       "      <th>school_b</th>\n",
       "      <th>school_c</th>\n",
       "    </tr>\n",
       "  </thead>\n",
       "  <tbody>\n",
       "    <tr>\n",
       "      <th>school_a</th>\n",
       "      <td>1</td>\n",
       "      <td>NaN</td>\n",
       "      <td>NaN</td>\n",
       "    </tr>\n",
       "    <tr>\n",
       "      <th>school_b</th>\n",
       "      <td>3</td>\n",
       "      <td>1.0</td>\n",
       "      <td>3.0</td>\n",
       "    </tr>\n",
       "    <tr>\n",
       "      <th>school_c</th>\n",
       "      <td>2</td>\n",
       "      <td>NaN</td>\n",
       "      <td>1.0</td>\n",
       "    </tr>\n",
       "  </tbody>\n",
       "</table>\n",
       "</div>"
      ],
      "text/plain": [
       "          school_a  school_b  school_c\n",
       "school_a         1       NaN       NaN\n",
       "school_b         3       1.0       3.0\n",
       "school_c         2       NaN       1.0"
      ]
     },
     "execution_count": 74,
     "metadata": {},
     "output_type": "execute_result"
    }
   ],
   "source": [
    "pairwise_learning=pd.read_excel(linkGoogle,sheet_name='learning', index_col=0)\n",
    "pairwise_learning"
   ]
  },
  {
   "cell_type": "code",
   "execution_count": 75,
   "id": "f7e12d21-ef8f-437c-ab7b-f3fa1e64ed69",
   "metadata": {},
   "outputs": [],
   "source": [
    "pairwise_friends=pd.read_excel(linkGoogle,sheet_name='friends', index_col=0)\n",
    "pairwise_school_life=pd.read_excel(linkGoogle,sheet_name='school_life', index_col=0)\n",
    "pairwise_vocational_trng=pd.read_excel(linkGoogle,sheet_name='vocational_trng', index_col=0)\n",
    "pairwise_college_prep=pd.read_excel(linkGoogle,sheet_name='college_prep', index_col=0)\n",
    "pairwise_music_class=pd.read_excel(linkGoogle,sheet_name='music_class', index_col=0)\n",
    "pairwise_criteria=pd.read_excel(linkGoogle,sheet_name='criteria', index_col=0)"
   ]
  },
  {
   "cell_type": "code",
   "execution_count": 76,
   "id": "1fb7e32f-f296-4d00-9e3e-da12bf568211",
   "metadata": {},
   "outputs": [
    {
     "data": {
      "text/html": [
       "<div>\n",
       "<style scoped>\n",
       "    .dataframe tbody tr th:only-of-type {\n",
       "        vertical-align: middle;\n",
       "    }\n",
       "\n",
       "    .dataframe tbody tr th {\n",
       "        vertical-align: top;\n",
       "    }\n",
       "\n",
       "    .dataframe thead th {\n",
       "        text-align: right;\n",
       "    }\n",
       "</style>\n",
       "<table border=\"1\" class=\"dataframe\">\n",
       "  <thead>\n",
       "    <tr style=\"text-align: right;\">\n",
       "      <th></th>\n",
       "      <th>learning</th>\n",
       "      <th>friends</th>\n",
       "      <th>school_life</th>\n",
       "      <th>vocational_trng</th>\n",
       "      <th>college_prep</th>\n",
       "      <th>music_class</th>\n",
       "    </tr>\n",
       "  </thead>\n",
       "  <tbody>\n",
       "    <tr>\n",
       "      <th>learning</th>\n",
       "      <td>1.0</td>\n",
       "      <td>4.0</td>\n",
       "      <td>3</td>\n",
       "      <td>1.0</td>\n",
       "      <td>3.0</td>\n",
       "      <td>4.0</td>\n",
       "    </tr>\n",
       "    <tr>\n",
       "      <th>friends</th>\n",
       "      <td>NaN</td>\n",
       "      <td>1.0</td>\n",
       "      <td>7</td>\n",
       "      <td>3.0</td>\n",
       "      <td>NaN</td>\n",
       "      <td>1.0</td>\n",
       "    </tr>\n",
       "    <tr>\n",
       "      <th>school_life</th>\n",
       "      <td>NaN</td>\n",
       "      <td>NaN</td>\n",
       "      <td>1</td>\n",
       "      <td>NaN</td>\n",
       "      <td>NaN</td>\n",
       "      <td>NaN</td>\n",
       "    </tr>\n",
       "    <tr>\n",
       "      <th>vocational_trng</th>\n",
       "      <td>1.0</td>\n",
       "      <td>NaN</td>\n",
       "      <td>5</td>\n",
       "      <td>1.0</td>\n",
       "      <td>1.0</td>\n",
       "      <td>NaN</td>\n",
       "    </tr>\n",
       "    <tr>\n",
       "      <th>college_prep</th>\n",
       "      <td>NaN</td>\n",
       "      <td>5.0</td>\n",
       "      <td>5</td>\n",
       "      <td>1.0</td>\n",
       "      <td>1.0</td>\n",
       "      <td>3.0</td>\n",
       "    </tr>\n",
       "    <tr>\n",
       "      <th>music_class</th>\n",
       "      <td>NaN</td>\n",
       "      <td>1.0</td>\n",
       "      <td>6</td>\n",
       "      <td>3.0</td>\n",
       "      <td>NaN</td>\n",
       "      <td>1.0</td>\n",
       "    </tr>\n",
       "  </tbody>\n",
       "</table>\n",
       "</div>"
      ],
      "text/plain": [
       "                 learning  friends  school_life  vocational_trng  \\\n",
       "learning              1.0      4.0            3              1.0   \n",
       "friends               NaN      1.0            7              3.0   \n",
       "school_life           NaN      NaN            1              NaN   \n",
       "vocational_trng       1.0      NaN            5              1.0   \n",
       "college_prep          NaN      5.0            5              1.0   \n",
       "music_class           NaN      1.0            6              3.0   \n",
       "\n",
       "                 college_prep  music_class  \n",
       "learning                  3.0          4.0  \n",
       "friends                   NaN          1.0  \n",
       "school_life               NaN          NaN  \n",
       "vocational_trng           1.0          NaN  \n",
       "college_prep              1.0          3.0  \n",
       "music_class               NaN          1.0  "
      ]
     },
     "execution_count": 76,
     "metadata": {},
     "output_type": "execute_result"
    }
   ],
   "source": [
    "pairwise_criteria"
   ]
  },
  {
   "cell_type": "code",
   "execution_count": 77,
   "id": "b270d226-9ca8-487d-9547-39091cea9c9e",
   "metadata": {},
   "outputs": [],
   "source": [
    "G_learning = nx.from_pandas_adjacency(pairwise_learning,create_using=nx.MultiDiGraph())\n",
    "learning_comparisons ={(e[0],e[1]):e[2]['weight'] for e in G_learning.edges(data=True) if np.isfinite(e[2]['weight'])}\n",
    "\n",
    "G_friends = nx.from_pandas_adjacency(pairwise_friends,create_using=nx.MultiDiGraph())\n",
    "friends_comparisons={(e[0],e[1]):e[2]['weight'] for e in G_friends.edges(data=True) if np.isfinite(e[2]['weight'])}\n",
    "\n",
    "G_school_life = nx.from_pandas_adjacency(pairwise_school_life,create_using=nx.MultiDiGraph())\n",
    "school_life_comparisons={(e[0],e[1]):e[2]['weight'] for e in G_school_life.edges(data=True) if np.isfinite(e[2]['weight'])}\n",
    "\n",
    "G_vocational_trng = nx.from_pandas_adjacency(pairwise_vocational_trng,create_using=nx.MultiDiGraph())\n",
    "vocational_trng_comparisons={(e[0],e[1]):e[2]['weight'] for e in G_vocational_trng.edges(data=True) if np.isfinite(e[2]['weight'])}\n",
    "\n",
    "G_college_prep = nx.from_pandas_adjacency(pairwise_college_prep,create_using=nx.MultiDiGraph())\n",
    "college_prep_comparisons={(e[0],e[1]):e[2]['weight'] for e in G_college_prep.edges(data=True) if np.isfinite(e[2]['weight'])}\n",
    "\n",
    "G_music_class = nx.from_pandas_adjacency(pairwise_music_class,create_using=nx.MultiDiGraph())\n",
    "music_class_comparisons={(e[0],e[1]):e[2]['weight'] for e in G_music_class.edges(data=True) if np.isfinite(e[2]['weight'])}"
   ]
  },
  {
   "cell_type": "code",
   "execution_count": 78,
   "id": "f051c432-9a9a-4acd-b469-70d4e9b338bd",
   "metadata": {
    "scrolled": true
   },
   "outputs": [
    {
     "data": {
      "text/plain": [
       "[{('school_a', 'school_a'): 1.0,\n",
       "  ('school_b', 'school_b'): 1.0,\n",
       "  ('school_b', 'school_a'): 3.0,\n",
       "  ('school_b', 'school_c'): 3.0,\n",
       "  ('school_c', 'school_c'): 1.0,\n",
       "  ('school_c', 'school_a'): 2.0},\n",
       " {('school_a', 'school_a'): 1,\n",
       "  ('school_a', 'school_b'): 1,\n",
       "  ('school_a', 'school_c'): 1,\n",
       "  ('school_b', 'school_b'): 1,\n",
       "  ('school_b', 'school_a'): 1,\n",
       "  ('school_b', 'school_c'): 1,\n",
       "  ('school_c', 'school_c'): 1,\n",
       "  ('school_c', 'school_a'): 1,\n",
       "  ('school_c', 'school_b'): 1},\n",
       " {('school_a', 'school_a'): 1.0,\n",
       "  ('school_a', 'school_b'): 5.0,\n",
       "  ('school_a', 'school_c'): 1.0,\n",
       "  ('school_b', 'school_b'): 1.0,\n",
       "  ('school_c', 'school_c'): 1.0,\n",
       "  ('school_c', 'school_a'): 1.0,\n",
       "  ('school_c', 'school_b'): 5.0},\n",
       " {('school_a', 'school_a'): 1.0,\n",
       "  ('school_a', 'school_b'): 9.0,\n",
       "  ('school_a', 'school_c'): 7.0,\n",
       "  ('school_b', 'school_b'): 1.0,\n",
       "  ('school_c', 'school_c'): 1.0,\n",
       "  ('school_c', 'school_b'): 5.0},\n",
       " {('school_a', 'school_a'): 1.0,\n",
       "  ('school_a', 'school_c'): 1.0,\n",
       "  ('school_b', 'school_b'): 1.0,\n",
       "  ('school_b', 'school_a'): 2.0,\n",
       "  ('school_b', 'school_c'): 2.0,\n",
       "  ('school_c', 'school_c'): 1.0,\n",
       "  ('school_c', 'school_a'): 1.0},\n",
       " {('school_a', 'school_a'): 1.0,\n",
       "  ('school_a', 'school_b'): 6.0,\n",
       "  ('school_a', 'school_c'): 4.0,\n",
       "  ('school_b', 'school_b'): 1.0,\n",
       "  ('school_c', 'school_c'): 1.0,\n",
       "  ('school_c', 'school_b'): 3.0}]"
      ]
     },
     "execution_count": 78,
     "metadata": {},
     "output_type": "execute_result"
    }
   ],
   "source": [
    "[learning_comparisons, friends_comparisons,school_life_comparisons,vocational_trng_comparisons,college_prep_comparisons,music_class_comparisons]"
   ]
  },
  {
   "cell_type": "code",
   "execution_count": 79,
   "id": "6d94b813-8d29-47cb-ba0e-341ac5275cc3",
   "metadata": {},
   "outputs": [
    {
     "data": {
      "text/plain": [
       "{('learning', 'learning'): 1.0,\n",
       " ('learning', 'friends'): 4.0,\n",
       " ('learning', 'school_life'): 3.0,\n",
       " ('learning', 'vocational_trng'): 1.0,\n",
       " ('learning', 'college_prep'): 3.0,\n",
       " ('learning', 'music_class'): 4.0,\n",
       " ('friends', 'friends'): 1.0,\n",
       " ('friends', 'school_life'): 7.0,\n",
       " ('friends', 'vocational_trng'): 3.0,\n",
       " ('friends', 'music_class'): 1.0,\n",
       " ('school_life', 'school_life'): 1.0,\n",
       " ('vocational_trng', 'vocational_trng'): 1.0,\n",
       " ('vocational_trng', 'learning'): 1.0,\n",
       " ('vocational_trng', 'school_life'): 5.0,\n",
       " ('vocational_trng', 'college_prep'): 1.0,\n",
       " ('college_prep', 'college_prep'): 1.0,\n",
       " ('college_prep', 'friends'): 5.0,\n",
       " ('college_prep', 'school_life'): 5.0,\n",
       " ('college_prep', 'vocational_trng'): 1.0,\n",
       " ('college_prep', 'music_class'): 3.0,\n",
       " ('music_class', 'music_class'): 1.0,\n",
       " ('music_class', 'friends'): 1.0,\n",
       " ('music_class', 'school_life'): 6.0,\n",
       " ('music_class', 'vocational_trng'): 3.0}"
      ]
     },
     "execution_count": 79,
     "metadata": {},
     "output_type": "execute_result"
    }
   ],
   "source": [
    "G_CRIT = nx.from_pandas_adjacency(pairwise_criteria,create_using=nx.MultiDiGraph())\n",
    "criteria_comparisons ={(e[0],e[1]):e[2]['weight'] for e in G_CRIT.edges(data=True) if np.isfinite(e[2]['weight'])}\n",
    "criteria_comparisons"
   ]
  },
  {
   "cell_type": "code",
   "execution_count": 80,
   "id": "50dcaebe-cf0e-4fb9-b058-28e4b3a8ff71",
   "metadata": {},
   "outputs": [],
   "source": [
    "learning = ahpy.Compare('learning', learning_comparisons, random_index='saaty')\n",
    "friends = ahpy.Compare('friends', friends_comparisons, random_index='saaty')\n",
    "school_life = ahpy.Compare('school_life', school_life_comparisons, random_index='saaty')\n",
    "vocational_trng = ahpy.Compare('vocational_trng', vocational_trng_comparisons, random_index='saaty')\n",
    "college_prep = ahpy.Compare('college_prep', college_prep_comparisons, random_index='saaty')\n",
    "music_class = ahpy.Compare('music_class', music_class_comparisons, random_index='saaty')\n",
    "criteria = ahpy.Compare('criteria', criteria_comparisons, random_index='saaty')"
   ]
  },
  {
   "cell_type": "code",
   "execution_count": 81,
   "id": "cade747a-6f40-4cdb-b880-244711df7ddd",
   "metadata": {},
   "outputs": [],
   "source": [
    "criteria.add_children([learning, friends, school_life, vocational_trng, college_prep, music_class])"
   ]
  },
  {
   "cell_type": "code",
   "execution_count": 82,
   "id": "44a75313-1e85-401b-8d65-4b4a2f9a7bbc",
   "metadata": {},
   "outputs": [
    {
     "name": "stdout",
     "output_type": "stream",
     "text": [
      "{'learning': 0.3208, 'college_prep': 0.2374, 'friends': 0.1395, 'music_class': 0.1391, 'vocational_trng': 0.1285, 'school_life': 0.0348}\n"
     ]
    }
   ],
   "source": [
    "print(criteria.global_weights)"
   ]
  },
  {
   "cell_type": "markdown",
   "id": "33f31c77-807e-4fa5-bb47-8aa7c18f96ce",
   "metadata": {},
   "source": [
    "These numbers are the calculated priorities (weights) across all the criteria for the schools. They reflect how important each factor is in the overall decision-making process. The top two priorties are learning (32.08%) and college prep (23.74%), which have the highest weight, which means these contribute more to the overall outcome. School life had the least influence of 3.48%. "
   ]
  },
  {
   "cell_type": "code",
   "execution_count": 83,
   "id": "3a07ed4b-424d-4faf-a3ab-e4644521c044",
   "metadata": {},
   "outputs": [
    {
     "name": "stdout",
     "output_type": "stream",
     "text": [
      "{'school_b': 0.3785, 'school_a': 0.3674, 'school_c': 0.2542}\n"
     ]
    }
   ],
   "source": [
    "print(criteria.target_weights)"
   ]
  },
  {
   "cell_type": "markdown",
   "id": "3bc3dba5-6039-4981-a988-78a3fc9cced5",
   "metadata": {},
   "source": [
    "These numbers represent how prferable each school is based on the comparisons. School B was rated the highest of importance (37.85%), followed by School A (36.74%), while School C received the lowest weight (25.42%), meaning it is the least important or preferred. This tells us what school is the best option. "
   ]
  },
  {
   "cell_type": "code",
   "execution_count": 84,
   "id": "e29d9078-bcfb-46b0-96fb-2b2b35dcfeb5",
   "metadata": {},
   "outputs": [
    {
     "data": {
      "text/plain": [
       "[('learning', 0.0516),\n",
       " ('friends', 0.0),\n",
       " ('school_life', 0.0),\n",
       " ('vocational_trng', 0.2005),\n",
       " ('college_prep', 0.0),\n",
       " ('music_class', 0.0516)]"
      ]
     },
     "execution_count": 84,
     "metadata": {},
     "output_type": "execute_result"
    }
   ],
   "source": [
    "[(val.name,val.consistency_ratio) for val in [learning, friends, school_life, vocational_trng, college_prep, music_class]]"
   ]
  },
  {
   "cell_type": "code",
   "execution_count": 86,
   "id": "d15fae98-4ce3-45f3-8e6b-0e3eb5e6b40b",
   "metadata": {},
   "outputs": [
    {
     "data": {
      "text/html": [
       "<div>\n",
       "<style scoped>\n",
       "    .dataframe tbody tr th:only-of-type {\n",
       "        vertical-align: middle;\n",
       "    }\n",
       "\n",
       "    .dataframe tbody tr th {\n",
       "        vertical-align: top;\n",
       "    }\n",
       "\n",
       "    .dataframe thead th {\n",
       "        text-align: right;\n",
       "    }\n",
       "</style>\n",
       "<table border=\"1\" class=\"dataframe\">\n",
       "  <thead>\n",
       "    <tr style=\"text-align: right;\">\n",
       "      <th></th>\n",
       "      <th>school_a</th>\n",
       "      <th>school_b</th>\n",
       "      <th>school_c</th>\n",
       "    </tr>\n",
       "  </thead>\n",
       "  <tbody>\n",
       "    <tr>\n",
       "      <th>school_a</th>\n",
       "      <td>1.0</td>\n",
       "      <td>9</td>\n",
       "      <td>7.0</td>\n",
       "    </tr>\n",
       "    <tr>\n",
       "      <th>school_b</th>\n",
       "      <td>NaN</td>\n",
       "      <td>1</td>\n",
       "      <td>NaN</td>\n",
       "    </tr>\n",
       "    <tr>\n",
       "      <th>school_c</th>\n",
       "      <td>NaN</td>\n",
       "      <td>5</td>\n",
       "      <td>1.0</td>\n",
       "    </tr>\n",
       "  </tbody>\n",
       "</table>\n",
       "</div>"
      ],
      "text/plain": [
       "          school_a  school_b  school_c\n",
       "school_a       1.0         9       7.0\n",
       "school_b       NaN         1       NaN\n",
       "school_c       NaN         5       1.0"
      ]
     },
     "execution_count": 86,
     "metadata": {},
     "output_type": "execute_result"
    }
   ],
   "source": [
    "pairwise_vocational_trng"
   ]
  },
  {
   "cell_type": "markdown",
   "id": "3cf8e9e5-966b-4fe9-9615-4b171258c0bd",
   "metadata": {},
   "source": [
    "The vocational_trng table has a consistency ratio of 0.2005, which is higher than the recommended limit of 0.1. This means the comparisons in the table are inconsistent and should be adjusted to better match each other.\n",
    "The rest of the consistency ratios are within the range of 0.1 or below, meaning the values are consistent and dont need adjustment. "
   ]
  }
 ],
 "metadata": {
  "kernelspec": {
   "display_name": "Python [conda env:base] *",
   "language": "python",
   "name": "conda-base-py"
  },
  "language_info": {
   "codemirror_mode": {
    "name": "ipython",
    "version": 3
   },
   "file_extension": ".py",
   "mimetype": "text/x-python",
   "name": "python",
   "nbconvert_exporter": "python",
   "pygments_lexer": "ipython3",
   "version": "3.12.7"
  }
 },
 "nbformat": 4,
 "nbformat_minor": 5
}
